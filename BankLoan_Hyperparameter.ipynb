{
 "cells": [
  {
   "cell_type": "code",
   "execution_count": 2,
   "metadata": {},
   "outputs": [],
   "source": [
    "#import libraries\n",
    "import pandas as pd"
   ]
  },
  {
   "cell_type": "code",
   "execution_count": 3,
   "metadata": {},
   "outputs": [
    {
     "data": {
      "text/plain": [
       "(20, 4)"
      ]
     },
     "execution_count": 3,
     "metadata": {},
     "output_type": "execute_result"
    }
   ],
   "source": [
    "ColumnNames=['CIBIL','AGE','SALARY','APPROVE_LOAN']\n",
    "DataValues=[[480, 28, 610000, 'Yes'],\n",
    "[480, 42, 140000, 'No'],\n",
    "[480, 29, 420000, 'No'],\n",
    "[490, 30, 420000, 'No'],\n",
    "[500, 27, 420000, 'No'],\n",
    "[510, 34, 190000, 'No'],\n",
    "[550, 24, 330000, 'Yes'],\n",
    "[560, 34, 160000, 'Yes'],\n",
    "[560, 25, 300000, 'Yes'],\n",
    "[570, 34, 450000, 'Yes'],\n",
    "[590, 30, 140000, 'Yes'],\n",
    "[600, 33, 600000, 'Yes'],\n",
    "[600, 22, 400000, 'Yes'],\n",
    "[600, 25, 490000, 'Yes'],\n",
    "[610, 32, 120000, 'Yes'],\n",
    "[630, 29, 360000, 'Yes'],\n",
    "[630, 30, 480000, 'Yes'],\n",
    "[660, 29, 460000, 'Yes'],\n",
    "[700, 32, 470000, 'Yes'],\n",
    "[740, 28, 400000, 'Yes']]\n",
    "\n",
    "LoanData=pd.DataFrame(data=DataValues,columns=ColumnNames)\n",
    "LoanData.shape"
   ]
  },
  {
   "cell_type": "code",
   "execution_count": 4,
   "metadata": {},
   "outputs": [],
   "source": [
    "target_name='APPROVE_LOAN'\n",
    "feature_names=['CIBIL','AGE', 'SALARY']\n",
    "x=LoanData[feature_names].values\n",
    "y=LoanData[target_name].values"
   ]
  },
  {
   "cell_type": "code",
   "execution_count": 5,
   "metadata": {},
   "outputs": [
    {
     "data": {
      "text/plain": [
       "array([[   480,     28, 610000],\n",
       "       [   480,     42, 140000],\n",
       "       [   480,     29, 420000],\n",
       "       [   490,     30, 420000],\n",
       "       [   500,     27, 420000],\n",
       "       [   510,     34, 190000],\n",
       "       [   550,     24, 330000],\n",
       "       [   560,     34, 160000],\n",
       "       [   560,     25, 300000],\n",
       "       [   570,     34, 450000],\n",
       "       [   590,     30, 140000],\n",
       "       [   600,     33, 600000],\n",
       "       [   600,     22, 400000],\n",
       "       [   600,     25, 490000],\n",
       "       [   610,     32, 120000],\n",
       "       [   630,     29, 360000],\n",
       "       [   630,     30, 480000],\n",
       "       [   660,     29, 460000],\n",
       "       [   700,     32, 470000],\n",
       "       [   740,     28, 400000]], dtype=int64)"
      ]
     },
     "execution_count": 5,
     "metadata": {},
     "output_type": "execute_result"
    }
   ],
   "source": [
    "x"
   ]
  },
  {
   "cell_type": "code",
   "execution_count": 6,
   "metadata": {},
   "outputs": [],
   "source": [
    "# Select a Model\n",
    "from sklearn.svm import SVC\n",
    "ml=SVC()"
   ]
  },
  {
   "cell_type": "code",
   "execution_count": 7,
   "metadata": {},
   "outputs": [],
   "source": [
    "# Parameters to try\n",
    "Parameter_Trials={'C': [0.1, 1, 10, 100, 1000],\n",
    "'gamma': [1, 0.1, 0.01, 0.001, 0.0001],\n",
    "'kernel': ['rbf']}"
   ]
  },
  {
   "cell_type": "code",
   "execution_count": 8,
   "metadata": {},
   "outputs": [
    {
     "name": "stdout",
     "output_type": "stream",
     "text": [
      "Fitting 5 folds for each of 25 candidates, totalling 125 fits\n"
     ]
    },
    {
     "name": "stderr",
     "output_type": "stream",
     "text": [
      "[Parallel(n_jobs=-1)]: Using backend LokyBackend with 4 concurrent workers.\n",
      "[Parallel(n_jobs=-1)]: Done  10 tasks      | elapsed:    4.1s\n",
      "[Parallel(n_jobs=-1)]: Done 125 out of 125 | elapsed:    4.3s finished\n"
     ]
    }
   ],
   "source": [
    "# GridSearch Demo\n",
    "from sklearn.model_selection import GridSearchCV\n",
    "gridsearch=GridSearchCV(SVC(),Parameter_Trials,cv=5,n_jobs=-1,verbose=5)\n",
    "results=gridsearch.fit(x,y)"
   ]
  },
  {
   "cell_type": "code",
   "execution_count": 9,
   "metadata": {},
   "outputs": [
    {
     "name": "stdout",
     "output_type": "stream",
     "text": [
      "{'C': 1, 'gamma': 0.001, 'kernel': 'rbf'}\n"
     ]
    },
    {
     "data": {
      "text/plain": [
       "[{'C': 0.1, 'gamma': 1, 'kernel': 'rbf'},\n",
       " {'C': 0.1, 'gamma': 0.1, 'kernel': 'rbf'},\n",
       " {'C': 0.1, 'gamma': 0.01, 'kernel': 'rbf'},\n",
       " {'C': 0.1, 'gamma': 0.001, 'kernel': 'rbf'},\n",
       " {'C': 0.1, 'gamma': 0.0001, 'kernel': 'rbf'},\n",
       " {'C': 1, 'gamma': 1, 'kernel': 'rbf'},\n",
       " {'C': 1, 'gamma': 0.1, 'kernel': 'rbf'},\n",
       " {'C': 1, 'gamma': 0.01, 'kernel': 'rbf'},\n",
       " {'C': 1, 'gamma': 0.001, 'kernel': 'rbf'},\n",
       " {'C': 1, 'gamma': 0.0001, 'kernel': 'rbf'},\n",
       " {'C': 10, 'gamma': 1, 'kernel': 'rbf'},\n",
       " {'C': 10, 'gamma': 0.1, 'kernel': 'rbf'},\n",
       " {'C': 10, 'gamma': 0.01, 'kernel': 'rbf'},\n",
       " {'C': 10, 'gamma': 0.001, 'kernel': 'rbf'},\n",
       " {'C': 10, 'gamma': 0.0001, 'kernel': 'rbf'},\n",
       " {'C': 100, 'gamma': 1, 'kernel': 'rbf'},\n",
       " {'C': 100, 'gamma': 0.1, 'kernel': 'rbf'},\n",
       " {'C': 100, 'gamma': 0.01, 'kernel': 'rbf'},\n",
       " {'C': 100, 'gamma': 0.001, 'kernel': 'rbf'},\n",
       " {'C': 100, 'gamma': 0.0001, 'kernel': 'rbf'},\n",
       " {'C': 1000, 'gamma': 1, 'kernel': 'rbf'},\n",
       " {'C': 1000, 'gamma': 0.1, 'kernel': 'rbf'},\n",
       " {'C': 1000, 'gamma': 0.01, 'kernel': 'rbf'},\n",
       " {'C': 1000, 'gamma': 0.001, 'kernel': 'rbf'},\n",
       " {'C': 1000, 'gamma': 0.0001, 'kernel': 'rbf'}]"
      ]
     },
     "execution_count": 9,
     "metadata": {},
     "output_type": "execute_result"
    }
   ],
   "source": [
    "print(results.best_params_)\n",
    "results.cv_results_['params']"
   ]
  },
  {
   "cell_type": "code",
   "execution_count": 10,
   "metadata": {},
   "outputs": [
    {
     "name": "stdout",
     "output_type": "stream",
     "text": [
      "Fitting 5 folds for each of 25 candidates, totalling 125 fits\n"
     ]
    },
    {
     "name": "stderr",
     "output_type": "stream",
     "text": [
      "[Parallel(n_jobs=-1)]: Using backend LokyBackend with 4 concurrent workers.\n",
      "[Parallel(n_jobs=-1)]: Done  12 tasks      | elapsed:    0.0s\n",
      "[Parallel(n_jobs=-1)]: Done 125 out of 125 | elapsed:    0.1s finished\n"
     ]
    }
   ],
   "source": [
    "# RandomizedSearch Demo\n",
    "from sklearn.model_selection import RandomizedSearchCV\n",
    "randomsearch=RandomizedSearchCV(SVC(),Parameter_Trials,cv=5,n_jobs=-1,verbose=5)\n",
    "results=gridsearch.fit(x,y)"
   ]
  },
  {
   "cell_type": "code",
   "execution_count": null,
   "metadata": {},
   "outputs": [],
   "source": []
  }
 ],
 "metadata": {
  "kernelspec": {
   "display_name": "Python 3",
   "language": "python",
   "name": "python3"
  },
  "language_info": {
   "codemirror_mode": {
    "name": "ipython",
    "version": 3
   },
   "file_extension": ".py",
   "mimetype": "text/x-python",
   "name": "python",
   "nbconvert_exporter": "python",
   "pygments_lexer": "ipython3",
   "version": "3.8.5"
  }
 },
 "nbformat": 4,
 "nbformat_minor": 4
}
